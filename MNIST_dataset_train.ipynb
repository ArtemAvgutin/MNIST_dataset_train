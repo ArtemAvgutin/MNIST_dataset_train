{
  "cells": [
    {
      "cell_type": "markdown",
      "source": [
        "# Разработка нейросетевого алгоритма для решения задачи MNIST"
      ],
      "metadata": {
        "id": "34CUYJP3Q0Es"
      },
      "id": "34CUYJP3Q0Es"
    },
    {
      "cell_type": "code",
      "source": [
        "# Импорт библиотек\n",
        "import numpy as np\n",
        "import math\n",
        "from sklearn.model_selection import train_test_split\n",
        "\n",
        "import mnist\n",
        "import torch\n",
        "\n",
        "import seaborn as sns\n",
        "import matplotlib.pyplot as plt\n",
        "%matplotlib inline"
      ],
      "metadata": {
        "id": "PNl_R653msDr"
      },
      "id": "PNl_R653msDr",
      "execution_count": null,
      "outputs": []
    },
    {
      "cell_type": "markdown",
      "id": "17a4ed05",
      "metadata": {
        "id": "17a4ed05"
      },
      "source": [
        "# Загрузка датасета MNIST"
      ]
    },
    {
      "cell_type": "markdown",
      "id": "2e2feb08",
      "metadata": {
        "id": "2e2feb08"
      },
      "source": [
        "## Нормализация изображений и добавление дополнительного измерения (канала). Так, нейросеть сможет работать с изображениями, имеющими более одного цветового канала."
      ]
    },
    {
      "cell_type": "code",
      "execution_count": null,
      "id": "54ef33f3",
      "metadata": {
        "id": "54ef33f3"
      },
      "outputs": [],
      "source": [
        "train_images = torch.from_numpy(mnist.train_images())[:, np.newaxis, :, :].float() / 255.\n",
        "train_labels = torch.from_numpy(mnist.train_labels()).long()\n",
        "\n",
        "test_images = torch.from_numpy(mnist.test_images())[:, np.newaxis, :, :].float() / 255.\n",
        "test_labels = torch.from_numpy(mnist.test_labels()).long()"
      ]
    },
    {
      "cell_type": "markdown",
      "id": "1c6a857e",
      "metadata": {
        "id": "1c6a857e"
      },
      "source": [
        "## Визуализация нескольких изображений с метками класса"
      ]
    },
    {
      "cell_type": "code",
      "execution_count": null,
      "id": "10b23cb9",
      "metadata": {
        "colab": {
          "base_uri": "https://localhost:8080/",
          "height": 438
        },
        "id": "10b23cb9",
        "outputId": "33c74565-6d1c-4e04-9fbe-013a9c454cdd"
      },
      "outputs": [
        {
          "output_type": "display_data",
          "data": {
            "text/plain": [
              "<Figure size 640x480 with 6 Axes>"
            ],
            "image/png": "[encoded data removed]"
          },
          "metadata": {}
        }
      ],
      "source": [
        "fig = plt.figure()\n",
        "for i in range(6):\n",
        "    plt.subplot(2,3,i+1)\n",
        "    plt.tight_layout()\n",
        "    plt.imshow(train_images[i][0], cmap='gray', interpolation='none')\n",
        "    plt.title(\"Ground Truth: {}\".format(train_labels[i]))\n",
        "    plt.xticks([])\n",
        "    plt.yticks([])"
      ]
    },
    {
      "cell_type": "markdown",
      "id": "b5ae0e22",
      "metadata": {
        "id": "b5ae0e22"
      },
      "source": [
        "# Импорт библиотек из pytorch и реализация класса нейронной сети"
      ]
    },
    {
      "cell_type": "code",
      "execution_count": null,
      "id": "28fce2d0",
      "metadata": {
        "id": "28fce2d0"
      },
      "outputs": [],
      "source": [
        "import torch.nn as nn\n",
        "import torch.nn.functional as F\n",
        "import torch.optim as optim\n",
        "import torch"
      ]
    },
    {
      "cell_type": "markdown",
      "id": "a0da393c",
      "metadata": {
        "id": "a0da393c"
      },
      "source": [
        "## Класс EarlyStopping"
      ]
    },
    {
      "cell_type": "markdown",
      "source": [
        "### Этот класс реализует функционал ранней остаоновки. Так мы сможем избежать переобучения нейросети и остановить обучение раньше инициализированного количества эпох."
      ],
      "metadata": {
        "id": "dTFtyUkoRKrw"
      },
      "id": "dTFtyUkoRKrw"
    },
    {
      "cell_type": "code",
      "execution_count": null,
      "id": "05565386",
      "metadata": {
        "id": "05565386"
      },
      "outputs": [],
      "source": [
        "class EarlyStopping:\n",
        "    def __init__(self, tolerance=5, min_delta=0.01):\n",
        "\n",
        "        self.tolerance = tolerance\n",
        "        self.min_delta = min_delta\n",
        "        self.counter = 0\n",
        "        self.early_stop = False\n",
        "\n",
        "    def __call__(self, losses):\n",
        "        if (losses[0] - losses[1])/losses[0] <= self.min_delta:\n",
        "            self.counter +=1\n",
        "            if self.counter >= self.tolerance:\n",
        "                self.early_stop = True"
      ]
    },
    {
      "cell_type": "markdown",
      "id": "e6b9aace",
      "metadata": {
        "id": "e6b9aace"
      },
      "source": [
        "### Класс нейронной сети. Данный класс является универсальным (относительно, т.к. для решение табличной задачи классификации необходимо задать подходящую функцию ошибки). Т.е. с помощью этого конструктора можно решать классические задачи регрессии и классификации, а также задачу классификации изображений. Способ задания нейросети интуитивно понятный: последовательно в виде словарей python задаются параметры очередного слоя нейронной сети. Таким образом, мы можем видеть архитектуру нейронной сети на этапе инициализации, а сам класс будет являться чем-то вроде черного ящика. Также добавлена возможность выбора различных оптимизаторов, функций потерь."
      ]
    },
    {
      "cell_type": "code",
      "execution_count": null,
      "id": "eb811d53",
      "metadata": {
        "id": "eb811d53"
      },
      "outputs": [],
      "source": [
        "class RegressionNet(nn.Module):\n",
        "    def __init__(self, *args):\n",
        "        super().__init__()\n",
        "        self.previous_shape = args[0].shape if len(args[0].shape) == 3 else args[0][np.newaxis, :].shape\n",
        "        self.layers = nn.ModuleList([self.choose_layer(**arg) for arg in args[1]])\n",
        "\n",
        "    def forward(self, x):\n",
        "        for layer in self.layers:\n",
        "            x = layer(x)\n",
        "        return x\n",
        "\n",
        "    def predict(self, X):\n",
        "        return [x.argmax() for x in self.forward(X)]\n",
        "\n",
        "    def train(self, X, y, optimizer='Adam', lr=0.01, epochs=1000, tolerance=5, min_delta=0.001, batch=None, val_part=0.1):\n",
        "\n",
        "        self.optimizer = self.choose_optimizer(optimizer=optimizer, lr=lr)\n",
        "        self.erls = EarlyStopping(tolerance=tolerance, min_delta=min_delta)\n",
        "        self.loss = self.choose_loss(loss='CrossEntropy')\n",
        "        self.train_epoch_losses = []\n",
        "        self.val_epoch_losses = []\n",
        "        self.batch = X.shape[0] if batch is None else batch\n",
        "\n",
        "        X_train, X_val, y_train, y_val = None, None, None, None\n",
        "\n",
        "        for epoch in range(epochs):\n",
        "\n",
        "            X_train, X_val, y_train, y_val = None, None, None, None\n",
        "\n",
        "            X_train, X_val, y_train, y_val = train_test_split(X, y, test_size=val_part, random_state=42)\n",
        "\n",
        "            step = 0\n",
        "            batch = 0\n",
        "\n",
        "            for start_index in range(0, X_train.shape[0], self.batch):\n",
        "                batch += 1\n",
        "                step += 1\n",
        "\n",
        "                self.optimizer.zero_grad()\n",
        "\n",
        "                x_batch = X_train[start_index:start_index+self.batch]\n",
        "                y_batch = y_train[start_index:start_index+self.batch]\n",
        "\n",
        "                preds = self.forward(x_batch)\n",
        "\n",
        "                loss_val = self.loss(preds, y_batch)\n",
        "                loss_val.backward()\n",
        "\n",
        "                self.optimizer.step()\n",
        "\n",
        "            self.train_epoch_losses.append(self.loss(self.forward(X_train), y_train).item())\n",
        "            self.val_epoch_losses.append(self.loss(self.forward(X_val), y_val).item())\n",
        "\n",
        "            print(f'epoch {epoch + 1}/{epochs}: train_loss={self.train_epoch_losses[-1]}, val_loss={self.val_epoch_losses[-1]}')\n",
        "\n",
        "            if len(self.val_epoch_losses) > 2:\n",
        "                self.erls(self.val_epoch_losses[-2:])\n",
        "                if self.erls.early_stop:\n",
        "                    print(f'Early Stop at epoch {epoch + 1}')\n",
        "                    break\n",
        "\n",
        "        return 0\n",
        "\n",
        "\n",
        "    def choose_layer(self, layer, in_features=None, out_features=None, dropout=None,\n",
        "                     in_channels=None, out_channels=None, kernel=None, stride=None, padding=None):\n",
        "        if layer == 'linear':\n",
        "            assert (in_features is not None) and (out_features is not None) and (dropout is None) and \\\n",
        "            (in_channels is None) and (out_channels is None) and (kernel is None) and \\\n",
        "            (stride is None) and (padding is None)\n",
        "            return nn.Linear(in_features=self.previous_shape if in_features == 'prev' else in_features,\n",
        "                             out_features=out_features, bias=True)\n",
        "        elif layer == 'flatten':\n",
        "            assert (in_features is None) and (out_features is None) and (dropout is None) and \\\n",
        "            (in_channels is None) and (out_channels is None) and (kernel is None) and \\\n",
        "            (stride is None) and (padding is None)\n",
        "            self.previous_shape = math.prod(self.previous_shape)\n",
        "            return nn.Flatten()\n",
        "        elif layer == 'softmax':\n",
        "            assert (in_features is None) and (out_features is None) and (dropout is None) and \\\n",
        "            (in_channels is None) and (out_channels is None) and (kernel is None) and \\\n",
        "            (stride is None) and (padding is None)\n",
        "            return nn.Softmax(dim=1)\n",
        "        elif layer == 'tanh':\n",
        "            assert (in_features is None) and (out_features is None) and (dropout is None) and \\\n",
        "            (in_channels is None) and (out_channels is None) and (kernel is None) and \\\n",
        "            (stride is None) and (padding is None)\n",
        "            return nn.Tanh()\n",
        "        elif layer == 'sigmoid':\n",
        "            assert (in_features is None) and (out_features is None) and (dropout is None) and \\\n",
        "            (in_channels is None) and (out_channels is None) and (kernel is None) and \\\n",
        "            (stride is None) and (padding is None)\n",
        "            return nn.Sigmoid()\n",
        "        elif layer == 'dropout':\n",
        "            assert (in_features is None) and (out_features is None) and (dropout is not None) and \\\n",
        "            (in_channels is None) and (out_channels is None) and (kernel is None) and \\\n",
        "            (stride is None) and (padding is None)\n",
        "            return nn.Dropout(p=dropout)\n",
        "        elif layer == 'conv2d':\n",
        "            assert (in_features is None) and (out_features is None) and (dropout is None) and \\\n",
        "            (in_channels is not None) and (out_channels is not None) and (kernel is not None) and\\\n",
        "            (stride is not None) and (padding is not None)\n",
        "            self.previous_shape = self.calc_out_shape_conv(self.previous_shape[1], self.previous_shape[2],\n",
        "                                                 out_channels, kernel, stride, padding)\n",
        "            return nn.Conv2d(in_channels, out_channels, kernel, stride=stride, padding=padding)\n",
        "        elif layer == 'max_pooling':\n",
        "            assert (in_features is None) and (out_features is None) and (dropout is None) and \\\n",
        "            (in_channels is None) and (out_channels is None) and (kernel is not None) and\\\n",
        "            (stride is not None) and (padding is not None)\n",
        "            self.previous_shape = self.calc_out_shape_pool(self.previous_shape[1], self.previous_shape[2],\n",
        "                                                 self.previous_shape[0], kernel, stride, padding)\n",
        "            return nn.MaxPool2d(kernel, stride=stride, padding=padding)\n",
        "\n",
        "    def calc_out_shape_conv(self, H_in, W_in, out_channels, kernel_size, stride, padding):\n",
        "        H_out = ((H_in - kernel_size + 2 * padding) // stride) + 1\n",
        "        W_out = ((W_in - kernel_size + 2 * padding) // stride) + 1\n",
        "        out_shape = (out_channels, H_out, W_out)\n",
        "\n",
        "        return out_shape\n",
        "\n",
        "    def calc_out_shape_pool(self, H_in, W_in, out_channels, kernel_size, stride, padding):\n",
        "        H_out = ((H_in + 2 * padding - kernel_size) // stride) + 1\n",
        "        W_out = ((W_in + 2 * padding - kernel_size) // stride) + 1\n",
        "        out_shape = (out_channels, H_out, W_out)\n",
        "\n",
        "        return out_shape\n",
        "\n",
        "    def choose_optimizer(self, optimizer='Adam', lr=0.01):\n",
        "        if optimizer=='SGD':\n",
        "            return torch.optim.SGD(self.parameters(), lr=lr)\n",
        "        elif optimizer=='Adam':\n",
        "            return torch.optim.Adam(self.parameters(), lr=lr)\n",
        "        elif optimizer=='RMSprop':\n",
        "            return torch.optim.RMSprop(self.parameters(), lr=lr)\n",
        "\n",
        "    def choose_loss(self, loss='CrossEntropy'):\n",
        "        if loss=='RMSE':\n",
        "            def _rmse(pred, target):\n",
        "                return torch.sqrt(((pred - target) ** 2).mean())\n",
        "            return _rmse\n",
        "        elif loss=='MSE':\n",
        "            def _mse(pred, target):\n",
        "                return ((pred - target) ** 2).mean()\n",
        "            return _mse\n",
        "        elif loss=='MAE':\n",
        "            def _mae(pred, target):\n",
        "                return torch.abs(pred - target).mean()\n",
        "            return _mae\n",
        "        elif loss=='CrossEntropy':\n",
        "            return nn.CrossEntropyLoss()"
      ]
    },
    {
      "cell_type": "markdown",
      "id": "66c154bf",
      "metadata": {
        "id": "66c154bf"
      },
      "source": [
        "# Инициализация нейронной сети. Методом научного тыка с первого раза удалось подобрать архитектуру нейронной сети, которая хорошо показывает себя на тестовых данных и имеет маленькую ошибку на валидационном наборе."
      ]
    },
    {
      "cell_type": "code",
      "execution_count": null,
      "id": "b74b82c3",
      "metadata": {
        "id": "b74b82c3"
      },
      "outputs": [],
      "source": [
        "neural_network = RegressionNet(train_images[0],\n",
        "                               (dict(layer='conv2d', in_channels=1, out_channels=4, kernel=5, stride=1, padding=0),\n",
        "                                dict(layer='max_pooling', kernel=5, stride=1, padding=0),\n",
        "                                dict(layer='conv2d', in_channels=4, out_channels=2, kernel=5, stride=1, padding=0),\n",
        "                                dict(layer='max_pooling', kernel=5, stride=1, padding=0),\n",
        "                                dict(layer='flatten'),\n",
        "                                dict(layer='linear', in_features='prev', out_features=100),\n",
        "                                dict(layer='tanh'),\n",
        "                                dict(layer='linear', in_features=100, out_features=10)))"
      ]
    },
    {
      "cell_type": "markdown",
      "id": "7dfa1a78",
      "metadata": {
        "id": "7dfa1a78"
      },
      "source": [
        "## Обучение нейронной сети"
      ]
    },
    {
      "cell_type": "code",
      "execution_count": null,
      "id": "3cff956d",
      "metadata": {
        "scrolled": false,
        "colab": {
          "base_uri": "https://localhost:8080/"
        },
        "id": "3cff956d",
        "outputId": "4f12a6d9-adb9-424d-adc9-d2b373ec7b16"
      },
      "outputs": [
        {
          "output_type": "stream",
          "name": "stdout",
          "text": [
            "epoch 1/1000: train_loss=2.130871057510376, val_loss=2.1389987468719482\n",
            "epoch 2/1000: train_loss=1.4969282150268555, val_loss=1.5059728622436523\n",
            "epoch 3/1000: train_loss=1.0156370401382446, val_loss=1.0189021825790405\n",
            "epoch 4/1000: train_loss=0.7168490886688232, val_loss=0.7121822834014893\n",
            "epoch 5/1000: train_loss=0.5531443357467651, val_loss=0.5462844371795654\n",
            "epoch 6/1000: train_loss=0.44691234827041626, val_loss=0.4385410249233246\n",
            "epoch 7/1000: train_loss=0.3881581723690033, val_loss=0.3798477053642273\n",
            "epoch 8/1000: train_loss=0.3457536995410919, val_loss=0.33714842796325684\n",
            "epoch 9/1000: train_loss=0.3144221901893616, val_loss=0.3050402104854584\n",
            "epoch 10/1000: train_loss=0.28882595896720886, val_loss=0.2791405916213989\n",
            "epoch 11/1000: train_loss=0.2657797634601593, val_loss=0.2587372064590454\n",
            "epoch 12/1000: train_loss=0.24664483964443207, val_loss=0.2415793389081955\n",
            "epoch 13/1000: train_loss=0.23061537742614746, val_loss=0.22735734283924103\n",
            "epoch 14/1000: train_loss=0.21742619574069977, val_loss=0.2154543250799179\n",
            "epoch 15/1000: train_loss=0.20666208863258362, val_loss=0.20538853108882904\n",
            "epoch 16/1000: train_loss=0.19720110297203064, val_loss=0.1969832181930542\n",
            "epoch 17/1000: train_loss=0.1882883757352829, val_loss=0.18927596509456635\n",
            "epoch 18/1000: train_loss=0.17912571132183075, val_loss=0.1812645047903061\n",
            "epoch 19/1000: train_loss=0.16958197951316833, val_loss=0.17267519235610962\n",
            "epoch 20/1000: train_loss=0.1602170169353485, val_loss=0.1640055626630783\n",
            "epoch 21/1000: train_loss=0.15198132395744324, val_loss=0.15620677173137665\n",
            "epoch 22/1000: train_loss=0.14648474752902985, val_loss=0.15080323815345764\n",
            "epoch 23/1000: train_loss=0.14411935210227966, val_loss=0.14833226799964905\n",
            "epoch 24/1000: train_loss=0.14183539152145386, val_loss=0.14631055295467377\n",
            "epoch 25/1000: train_loss=0.13571785390377045, val_loss=0.14127272367477417\n",
            "epoch 26/1000: train_loss=0.12812276184558868, val_loss=0.13538551330566406\n",
            "epoch 27/1000: train_loss=0.12230916321277618, val_loss=0.13128939270973206\n",
            "epoch 28/1000: train_loss=0.11802248656749725, val_loss=0.12843254208564758\n",
            "epoch 29/1000: train_loss=0.11435749381780624, val_loss=0.12598255276679993\n",
            "epoch 30/1000: train_loss=0.11088863760232925, val_loss=0.12354796379804611\n",
            "epoch 31/1000: train_loss=0.1075643002986908, val_loss=0.12111521512269974\n",
            "epoch 32/1000: train_loss=0.10446342080831528, val_loss=0.11885453015565872\n",
            "epoch 33/1000: train_loss=0.10160031169652939, val_loss=0.1167658269405365\n",
            "epoch 34/1000: train_loss=0.09890768676996231, val_loss=0.11482253670692444\n",
            "epoch 35/1000: train_loss=0.09634727984666824, val_loss=0.11305417865514755\n",
            "epoch 36/1000: train_loss=0.0939486026763916, val_loss=0.11151040345430374\n",
            "epoch 37/1000: train_loss=0.09163366258144379, val_loss=0.1101241260766983\n",
            "epoch 38/1000: train_loss=0.08937004208564758, val_loss=0.1088588759303093\n",
            "epoch 39/1000: train_loss=0.08726777136325836, val_loss=0.10771891474723816\n",
            "epoch 40/1000: train_loss=0.08528080582618713, val_loss=0.1066695898771286\n",
            "epoch 41/1000: train_loss=0.083408884704113, val_loss=0.10570473223924637\n",
            "epoch 42/1000: train_loss=0.0816883072257042, val_loss=0.1048813909292221\n",
            "epoch 43/1000: train_loss=0.08009587228298187, val_loss=0.10415969043970108\n",
            "epoch 44/1000: train_loss=0.07865961641073227, val_loss=0.1035618707537651\n",
            "epoch 45/1000: train_loss=0.07743643969297409, val_loss=0.10312719643115997\n",
            "epoch 46/1000: train_loss=0.07641147077083588, val_loss=0.1028185561299324\n",
            "epoch 47/1000: train_loss=0.07558760792016983, val_loss=0.10267926752567291\n",
            "epoch 48/1000: train_loss=0.07505631446838379, val_loss=0.10278208553791046\n",
            "epoch 49/1000: train_loss=0.07496123015880585, val_loss=0.10326652973890305\n",
            "epoch 50/1000: train_loss=0.07546839118003845, val_loss=0.10424169152975082\n",
            "epoch 51/1000: train_loss=0.07679563760757446, val_loss=0.10588368773460388\n",
            "epoch 52/1000: train_loss=0.07933516055345535, val_loss=0.10849586874246597\n",
            "Early Stop at epoch 52\n"
          ]
        },
        {
          "output_type": "execute_result",
          "data": {
            "text/plain": [
              "0"
            ]
          },
          "metadata": {},
          "execution_count": 30
        }
      ],
      "source": [
        "neural_network.train(train_images, train_labels, batch=10000)"
      ]
    },
    {
      "cell_type": "markdown",
      "id": "7ba94d59",
      "metadata": {
        "id": "7ba94d59"
      },
      "source": [
        "## Визуализация значения ошибки при обучении"
      ]
    },
    {
      "cell_type": "code",
      "execution_count": null,
      "id": "d4ac443e",
      "metadata": {
        "colab": {
          "base_uri": "https://localhost:8080/",
          "height": 497
        },
        "id": "d4ac443e",
        "outputId": "c36aec19-e3a9-4e72-f150-bb430169acc2"
      },
      "outputs": [
        {
          "output_type": "display_data",
          "data": {
            "text/plain": [
              "<Figure size 1000x1000 with 0 Axes>"
            ]
          },
          "metadata": {}
        },
        {
          "output_type": "display_data",
          "data": {
            "text/plain": [
              "<Figure size 640x480 with 1 Axes>"
            ],
            "image/png": "[encoded data removed]"
          },
          "metadata": {}
        }
      ],
      "source": [
        "sns.set()\n",
        "train_loss = neural_network.train_epoch_losses\n",
        "val_loss = neural_network.val_epoch_losses\n",
        "\n",
        "plt.figure(figsize=(10,10))\n",
        "fig, ax = plt.subplots()\n",
        "line1, = ax.plot(np.arange(len(train_loss)), train_loss, label='train loss')\n",
        "line2, = ax.plot(np.arange(len(val_loss)), val_loss, label='val loss')\n",
        "ax.set_title('Train and Val losses')\n",
        "ax.set_ylabel('Loss value')\n",
        "ax.set_xlabel('Epoch')\n",
        "ax.legend()\n",
        "\n",
        "plt.show()"
      ]
    },
    {
      "cell_type": "markdown",
      "id": "699fedc6",
      "metadata": {
        "id": "699fedc6"
      },
      "source": [
        "# Оценка на тестовом множестве"
      ]
    },
    {
      "cell_type": "code",
      "execution_count": null,
      "id": "c66e67a7",
      "metadata": {
        "id": "c66e67a7"
      },
      "outputs": [],
      "source": [
        "preds = neural_network.predict(test_images)"
      ]
    },
    {
      "cell_type": "markdown",
      "id": "7ef7f3f4",
      "metadata": {
        "id": "7ef7f3f4"
      },
      "source": [
        "## Значение ошибки кроссентропии на тестовом множестве"
      ]
    },
    {
      "cell_type": "code",
      "execution_count": null,
      "id": "a4a0443b",
      "metadata": {
        "colab": {
          "base_uri": "https://localhost:8080/"
        },
        "id": "a4a0443b",
        "outputId": "aab26b93-be52-4cbc-c24a-35428a8039d8"
      },
      "outputs": [
        {
          "output_type": "execute_result",
          "data": {
            "text/plain": [
              "tensor(0.1025, grad_fn=<NllLossBackward0>)"
            ]
          },
          "metadata": {},
          "execution_count": 33
        }
      ],
      "source": [
        "neural_network.loss(neural_network.forward(test_images), test_labels)"
      ]
    },
    {
      "cell_type": "markdown",
      "id": "3b447335",
      "metadata": {
        "id": "3b447335"
      },
      "source": [
        "## Визуальная оценка качества работы нейронной сети"
      ]
    },
    {
      "cell_type": "code",
      "execution_count": null,
      "id": "8e89726c",
      "metadata": {
        "colab": {
          "base_uri": "https://localhost:8080/"
        },
        "id": "8e89726c",
        "outputId": "e24813f6-9a7d-4744-9434-5fd0d2382bb7"
      },
      "outputs": [
        {
          "output_type": "display_data",
          "data": {
            "text/plain": [
              "<Figure size 1200x1200 with 12 Axes>"
            ],
            "image/png": "[encoded data removed]"
          },
          "metadata": {}
        }
      ],
      "source": [
        "fig = plt.figure(figsize=(12,12))\n",
        "for i in range(12):\n",
        "    plt.subplot(4,3,i+1)\n",
        "    plt.tight_layout()\n",
        "    plt.imshow(test_images[i * 20][0], cmap='gray', interpolation='none')\n",
        "    plt.title(\"Predicted: {}\\n Ground Truth: {}\".format(preds[i * 20], test_labels[i * 20]))\n",
        "    plt.xticks([])\n",
        "    plt.yticks([])"
      ]
    }
  ],
  "metadata": {
    "kernelspec": {
      "display_name": "Python 3 (ipykernel)",
      "language": "python",
      "name": "python3"
    },
    "language_info": {
      "codemirror_mode": {
        "name": "ipython",
        "version": 3
      },
      "file_extension": ".py",
      "mimetype": "text/x-python",
      "name": "python",
      "nbconvert_exporter": "python",
      "pygments_lexer": "ipython3",
      "version": "3.9.12"
    },
    "colab": {
      "provenance": []
    }
  },
  "nbformat": 4,
  "nbformat_minor": 5
}